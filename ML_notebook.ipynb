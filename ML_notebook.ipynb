{
  "nbformat": 4,
  "nbformat_minor": 0,
  "metadata": {
    "colab": {
      "name": "ML_notebook.ipynb",
      "provenance": [],
      "authorship_tag": "ABX9TyPvuvMcbqahCQV2aELDMU5I",
      "include_colab_link": true
    },
    "kernelspec": {
      "name": "python3",
      "display_name": "Python 3"
    }
  },
  "cells": [
    {
      "cell_type": "markdown",
      "metadata": {
        "id": "view-in-github",
        "colab_type": "text"
      },
      "source": [
        "<a href=\"https://colab.research.google.com/github/AlessandroPolidori/ML_notebook/blob/main/ML_notebook.ipynb\" target=\"_parent\"><img src=\"https://colab.research.google.com/assets/colab-badge.svg\" alt=\"Open In Colab\"/></a>"
      ]
    },
    {
      "cell_type": "code",
      "metadata": {
        "colab": {
          "base_uri": "https://localhost:8080/"
        },
        "id": "DmAe0kn3smL-",
        "outputId": "04256b5f-62f2-4a1e-fa41-369a1da45709"
      },
      "source": [
        "print('hello ai test2')"
      ],
      "execution_count": 1,
      "outputs": [
        {
          "output_type": "stream",
          "text": [
            "hello ai test2\n"
          ],
          "name": "stdout"
        }
      ]
    }
  ]
}