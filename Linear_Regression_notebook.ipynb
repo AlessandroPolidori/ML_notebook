{
  "nbformat": 4,
  "nbformat_minor": 0,
  "metadata": {
    "colab": {
      "name": "Linear_Regression_notebook.ipynb",
      "provenance": [],
      "collapsed_sections": [],
      "include_colab_link": true
    },
    "kernelspec": {
      "name": "python3",
      "display_name": "Python 3"
    }
  },
  "cells": [
    {
      "cell_type": "markdown",
      "metadata": {
        "id": "view-in-github",
        "colab_type": "text"
      },
      "source": [
        "<a href=\"https://colab.research.google.com/github/AlessandroPolidori/ML_notebook/blob/main/Linear_Regression_notebook.ipynb\" target=\"_parent\"><img src=\"https://colab.research.google.com/assets/colab-badge.svg\" alt=\"Open In Colab\"/></a>"
      ]
    },
    {
      "cell_type": "markdown",
      "metadata": {
        "id": "v-d_quaie4Pj"
      },
      "source": [
        "# Linear Regression - lecture 1\r\n",
        "\r\n"
      ]
    },
    {
      "cell_type": "markdown",
      "metadata": {
        "id": "9cZWyGYHbGyy"
      },
      "source": [
        "Let us consider the [iris dataset](https://en.wikipedia.org/wiki/Iris_flower_data_set).\r\n",
        "\r\n",
        "In the dataset we have data regarding specific species of flowers :\r\n",
        "- Sepal length;\r\n",
        "- Sepal width;\r\n",
        "- Petal length;\r\n",
        "- Petal width;\r\n",
        "- Species (*Iris setosa*, *Iris virginica* e *Iris versicolor*).\r\n",
        "\r\n",
        "In the specific, we have N = 150 total samples (50 per class).\r\n",
        "\r\n",
        "<img src='https://drive.google.com/uc?id=1cBVClKfJOVXwK-VCjwd9XzRgCN-wvec_' width=250>"
      ]
    },
    {
      "cell_type": "markdown",
      "metadata": {
        "id": "w6giCMiZfHuy"
      },
      "source": [
        "## Loading\r\n"
      ]
    },
    {
      "cell_type": "markdown",
      "metadata": {
        "id": "rFiMVDR4ee8Y"
      },
      "source": [
        "We need to import **matplotlib** and **pandas** to handle data and plots."
      ]
    },
    {
      "cell_type": "code",
      "metadata": {
        "id": "n58XRpsX2cfv"
      },
      "source": [
        "import pandas as pd\r\n",
        "from pandas.plotting import scatter_matrix\r\n",
        "import matplotlib.pyplot as plt"
      ],
      "execution_count": 2,
      "outputs": []
    },
    {
      "cell_type": "markdown",
      "metadata": {
        "id": "WsTZ7gaOe0-X"
      },
      "source": [
        "We can find the dataset we need to analyse online. We use pandas to load the csv to a **pandas.DataFrame**."
      ]
    },
    {
      "cell_type": "code",
      "metadata": {
        "id": "DsDXGniMhFHO"
      },
      "source": [
        "url = \"https://archive.ics.uci.edu/ml/machine-learning-databases/iris/iris.data\"\r\n",
        "names = ['sepal-length', 'sepal-width', 'petal-length', 'petal-width', 'class']\r\n",
        "dataset = pd.read_csv(url, names=names)"
      ],
      "execution_count": 3,
      "outputs": []
    },
    {
      "cell_type": "markdown",
      "metadata": {
        "id": "_cuX00NpfKfQ"
      },
      "source": [
        "We can start to have a look the data we have"
      ]
    },
    {
      "cell_type": "code",
      "metadata": {
        "id": "XQ6dMKw4hMG8",
        "colab": {
          "base_uri": "https://localhost:8080/",
          "height": 195
        },
        "outputId": "ff286c04-7d8a-42db-e817-89041713d926"
      },
      "source": [
        "dataset.head()"
      ],
      "execution_count": 4,
      "outputs": [
        {
          "output_type": "execute_result",
          "data": {
            "text/html": [
              "<div>\n",
              "<style scoped>\n",
              "    .dataframe tbody tr th:only-of-type {\n",
              "        vertical-align: middle;\n",
              "    }\n",
              "\n",
              "    .dataframe tbody tr th {\n",
              "        vertical-align: top;\n",
              "    }\n",
              "\n",
              "    .dataframe thead th {\n",
              "        text-align: right;\n",
              "    }\n",
              "</style>\n",
              "<table border=\"1\" class=\"dataframe\">\n",
              "  <thead>\n",
              "    <tr style=\"text-align: right;\">\n",
              "      <th></th>\n",
              "      <th>sepal-length</th>\n",
              "      <th>sepal-width</th>\n",
              "      <th>petal-length</th>\n",
              "      <th>petal-width</th>\n",
              "      <th>class</th>\n",
              "    </tr>\n",
              "  </thead>\n",
              "  <tbody>\n",
              "    <tr>\n",
              "      <th>0</th>\n",
              "      <td>5.1</td>\n",
              "      <td>3.5</td>\n",
              "      <td>1.4</td>\n",
              "      <td>0.2</td>\n",
              "      <td>Iris-setosa</td>\n",
              "    </tr>\n",
              "    <tr>\n",
              "      <th>1</th>\n",
              "      <td>4.9</td>\n",
              "      <td>3.0</td>\n",
              "      <td>1.4</td>\n",
              "      <td>0.2</td>\n",
              "      <td>Iris-setosa</td>\n",
              "    </tr>\n",
              "    <tr>\n",
              "      <th>2</th>\n",
              "      <td>4.7</td>\n",
              "      <td>3.2</td>\n",
              "      <td>1.3</td>\n",
              "      <td>0.2</td>\n",
              "      <td>Iris-setosa</td>\n",
              "    </tr>\n",
              "    <tr>\n",
              "      <th>3</th>\n",
              "      <td>4.6</td>\n",
              "      <td>3.1</td>\n",
              "      <td>1.5</td>\n",
              "      <td>0.2</td>\n",
              "      <td>Iris-setosa</td>\n",
              "    </tr>\n",
              "    <tr>\n",
              "      <th>4</th>\n",
              "      <td>5.0</td>\n",
              "      <td>3.6</td>\n",
              "      <td>1.4</td>\n",
              "      <td>0.2</td>\n",
              "      <td>Iris-setosa</td>\n",
              "    </tr>\n",
              "  </tbody>\n",
              "</table>\n",
              "</div>"
            ],
            "text/plain": [
              "   sepal-length  sepal-width  petal-length  petal-width        class\n",
              "0           5.1          3.5           1.4          0.2  Iris-setosa\n",
              "1           4.9          3.0           1.4          0.2  Iris-setosa\n",
              "2           4.7          3.2           1.3          0.2  Iris-setosa\n",
              "3           4.6          3.1           1.5          0.2  Iris-setosa\n",
              "4           5.0          3.6           1.4          0.2  Iris-setosa"
            ]
          },
          "metadata": {
            "tags": []
          },
          "execution_count": 4
        }
      ]
    },
    {
      "cell_type": "markdown",
      "metadata": {
        "id": "E7QPbBXcfxJR"
      },
      "source": [
        "we do not care about the flower species in this lesson, hence we remove that column:"
      ]
    },
    {
      "cell_type": "code",
      "metadata": {
        "id": "8NwQ3wkKxCMK"
      },
      "source": [
        "dataset = dataset.drop('class', axis=1)"
      ],
      "execution_count": 5,
      "outputs": []
    },
    {
      "cell_type": "markdown",
      "metadata": {
        "id": "NsNZl40AgQJz"
      },
      "source": [
        "We will try to understand how the feature are distributed, by printing some statistics:"
      ]
    },
    {
      "cell_type": "code",
      "metadata": {
        "id": "5wZg_9XsjX26",
        "colab": {
          "base_uri": "https://localhost:8080/",
          "height": 284
        },
        "outputId": "fa4afa1f-cd8d-45de-b314-bd02f998dea9"
      },
      "source": [
        "dataset.describe()"
      ],
      "execution_count": 6,
      "outputs": [
        {
          "output_type": "execute_result",
          "data": {
            "text/html": [
              "<div>\n",
              "<style scoped>\n",
              "    .dataframe tbody tr th:only-of-type {\n",
              "        vertical-align: middle;\n",
              "    }\n",
              "\n",
              "    .dataframe tbody tr th {\n",
              "        vertical-align: top;\n",
              "    }\n",
              "\n",
              "    .dataframe thead th {\n",
              "        text-align: right;\n",
              "    }\n",
              "</style>\n",
              "<table border=\"1\" class=\"dataframe\">\n",
              "  <thead>\n",
              "    <tr style=\"text-align: right;\">\n",
              "      <th></th>\n",
              "      <th>sepal-length</th>\n",
              "      <th>sepal-width</th>\n",
              "      <th>petal-length</th>\n",
              "      <th>petal-width</th>\n",
              "    </tr>\n",
              "  </thead>\n",
              "  <tbody>\n",
              "    <tr>\n",
              "      <th>count</th>\n",
              "      <td>150.000000</td>\n",
              "      <td>150.000000</td>\n",
              "      <td>150.000000</td>\n",
              "      <td>150.000000</td>\n",
              "    </tr>\n",
              "    <tr>\n",
              "      <th>mean</th>\n",
              "      <td>5.843333</td>\n",
              "      <td>3.054000</td>\n",
              "      <td>3.758667</td>\n",
              "      <td>1.198667</td>\n",
              "    </tr>\n",
              "    <tr>\n",
              "      <th>std</th>\n",
              "      <td>0.828066</td>\n",
              "      <td>0.433594</td>\n",
              "      <td>1.764420</td>\n",
              "      <td>0.763161</td>\n",
              "    </tr>\n",
              "    <tr>\n",
              "      <th>min</th>\n",
              "      <td>4.300000</td>\n",
              "      <td>2.000000</td>\n",
              "      <td>1.000000</td>\n",
              "      <td>0.100000</td>\n",
              "    </tr>\n",
              "    <tr>\n",
              "      <th>25%</th>\n",
              "      <td>5.100000</td>\n",
              "      <td>2.800000</td>\n",
              "      <td>1.600000</td>\n",
              "      <td>0.300000</td>\n",
              "    </tr>\n",
              "    <tr>\n",
              "      <th>50%</th>\n",
              "      <td>5.800000</td>\n",
              "      <td>3.000000</td>\n",
              "      <td>4.350000</td>\n",
              "      <td>1.300000</td>\n",
              "    </tr>\n",
              "    <tr>\n",
              "      <th>75%</th>\n",
              "      <td>6.400000</td>\n",
              "      <td>3.300000</td>\n",
              "      <td>5.100000</td>\n",
              "      <td>1.800000</td>\n",
              "    </tr>\n",
              "    <tr>\n",
              "      <th>max</th>\n",
              "      <td>7.900000</td>\n",
              "      <td>4.400000</td>\n",
              "      <td>6.900000</td>\n",
              "      <td>2.500000</td>\n",
              "    </tr>\n",
              "  </tbody>\n",
              "</table>\n",
              "</div>"
            ],
            "text/plain": [
              "       sepal-length  sepal-width  petal-length  petal-width\n",
              "count    150.000000   150.000000    150.000000   150.000000\n",
              "mean       5.843333     3.054000      3.758667     1.198667\n",
              "std        0.828066     0.433594      1.764420     0.763161\n",
              "min        4.300000     2.000000      1.000000     0.100000\n",
              "25%        5.100000     2.800000      1.600000     0.300000\n",
              "50%        5.800000     3.000000      4.350000     1.300000\n",
              "75%        6.400000     3.300000      5.100000     1.800000\n",
              "max        7.900000     4.400000      6.900000     2.500000"
            ]
          },
          "metadata": {
            "tags": []
          },
          "execution_count": 6
        }
      ]
    },
    {
      "cell_type": "markdown",
      "metadata": {
        "id": "mEQ7UCiShR8r"
      },
      "source": [
        "Visualizing data can also be very helpful:"
      ]
    },
    {
      "cell_type": "code",
      "metadata": {
        "id": "bm6vr21oki0W"
      },
      "source": [
        "dataset.hist(figsize=(16,9))\r\n",
        "plt.show()"
      ],
      "execution_count": null,
      "outputs": []
    },
    {
      "cell_type": "code",
      "metadata": {
        "id": "1Z4dN_xkktbf"
      },
      "source": [
        "scatter_matrix(dataset, figsize=(16, 9))\r\n",
        "plt.show()"
      ],
      "execution_count": null,
      "outputs": []
    },
    {
      "cell_type": "markdown",
      "metadata": {
        "id": "bm7JLrwnhqoM"
      },
      "source": [
        "*petal-lenght* and *petal-width* seem to have a strong relationship... we should investigate it more in detail! "
      ]
    },
    {
      "cell_type": "code",
      "metadata": {
        "id": "LdIV99sFxuzy",
        "colab": {
          "base_uri": "https://localhost:8080/",
          "height": 568
        },
        "outputId": "68b0876e-827f-4855-ef37-6a05d880aa89"
      },
      "source": [
        "dataset.plot.scatter('petal-length', 'petal-width', grid=True, figsize=(16,9))"
      ],
      "execution_count": 7,
      "outputs": [
        {
          "output_type": "execute_result",
          "data": {
            "text/plain": [
              "<matplotlib.axes._subplots.AxesSubplot at 0x7fbf316f9950>"
            ]
          },
          "metadata": {
            "tags": []
          },
          "execution_count": 7
        },
        {
          "output_type": "display_data",
          "data": {
            "image/png": "[encoded data removed]",
            "text/plain": [
              "<Figure size 1152x648 with 1 Axes>"
            ]
          },
          "metadata": {
            "tags": [],
            "needs_background": "light"
          }
        }
      ]
    },
    {
      "cell_type": "markdown",
      "metadata": {
        "id": "c9D0uEbnoKjL"
      },
      "source": [
        "## Preprocessing"
      ]
    },
    {
      "cell_type": "markdown",
      "metadata": {
        "id": "go8xsLbNiSvM"
      },
      "source": [
        "Once we inspected the data, we should operate some preprocessing procedures. On a\r\n",
        "generic dataset one should perform:\r\n",
        "\r\n",
        "- **shuffling**; mescolare, perché non ti interessa dell'ordine. In questo caso non lo facciamo perché non c'è un processo iterativo e quindi non cambia nulla\r\n",
        "- **remove inconsistent data**; se ci sono dei contraint sui data\r\n",
        "- **remove outliers**; just data that have to be discarded (non si capisce in base a cosa) forse perché sono super lontane dalla distribuzione\r\n",
        "- **normalize or standardize data**;differenti features possono avere differenti scale di grandezza, riscalarle aiuta gli algoritmi a trovare buone soluzioni\r\n",
        "- **fill missing data**. in alcuni casi potresti avere delle righe in cui ti mancano solo alcune features e per tenere tutte le altre colonne riempi i missing data nelle poche colonne vuote\r\n",
        "\r\n",
        "In this case we are going to use the entire dataset, with a non-iterative method, hence we do not need to **shuffle**.\r\n",
        "\r\n",
        "There seems not to be **outliers** from previous inspection.\r\n",
        "\r\n",
        "Is there any **missing data**?"
      ]
    },
    {
      "cell_type": "code",
      "metadata": {
        "id": "Edbi7OwnkpH0"
      },
      "source": [
        "import numpy as np"
      ],
      "execution_count": 8,
      "outputs": []
    },
    {
      "cell_type": "code",
      "metadata": {
        "id": "JG5zNjjgkulp",
        "colab": {
          "base_uri": "https://localhost:8080/"
        },
        "outputId": "2f47c641-7eb7-4b14-8a6f-c4916d59dfbb"
      },
      "source": [
        "np.any(np.isnan(dataset.values))"
      ],
      "execution_count": 9,
      "outputs": [
        {
          "output_type": "execute_result",
          "data": {
            "text/plain": [
              "False"
            ]
          },
          "metadata": {
            "tags": []
          },
          "execution_count": 9
        }
      ]
    },
    {
      "cell_type": "markdown",
      "metadata": {
        "id": "rfRSP-95k4RX"
      },
      "source": [
        "we are lucky, no missing data, no outliers... \r\n",
        "\r\n",
        "However it is always better to work with data in the same scale, hence we should normalize the columns we are going to use.\r\n",
        "\r\n",
        "\\begin{align*}\r\n",
        "\ts &\\leftarrow \\frac{s - \\bar{s}}{S} \\\\\r\n",
        "\ts &\\leftarrow \\frac{s - \\bar{s}}{\\max_n \\{ s_n \\} - \\min_n \\{ s_n \\}}\r\n",
        "\\end{align*}\r\n",
        "\r\n",
        "The **zscore** function operates a standardization of its inputs."
      ]
    },
    {
      "cell_type": "code",
      "metadata": {
        "id": "UK0h49LloI-0"
      },
      "source": [
        "from scipy.stats import zscore"
      ],
      "execution_count": 10,
      "outputs": []
    },
    {
      "cell_type": "code",
      "metadata": {
        "id": "F0QkTCpxsyKg"
      },
      "source": [
        "x = zscore(dataset['petal-length'].values).reshape(-1, 1) # we reshape our feature column as a (n_sample, n_features) matrix\r\n",
        "y = zscore(dataset['petal-width'].values)"
      ],
      "execution_count": null,
      "outputs": []
    },
    {
      "cell_type": "code",
      "metadata": {
        "id": "P79WPDqC55Kv"
      },
      "source": [
        "x.shape"
      ],
      "execution_count": null,
      "outputs": []
    },
    {
      "cell_type": "markdown",
      "metadata": {
        "id": "IYB11a3go4AW"
      },
      "source": [
        "## Using Scikit-Learn Toolbox"
      ]
    },
    {
      "cell_type": "code",
      "metadata": {
        "id": "VICftz9AuRPJ"
      },
      "source": [
        ""
      ],
      "execution_count": null,
      "outputs": []
    },
    {
      "cell_type": "markdown",
      "metadata": {
        "id": "RCDdGvUGl1O2"
      },
      "source": [
        "A linear model seems to be a good choice to predict *petal-width* given petal-length, let's use **scikit-learn** tools to do a linear regression:\r\n"
      ]
    },
    {
      "cell_type": "code",
      "metadata": {
        "id": "u0aTBQocn5tI"
      },
      "source": [
        "from sklearn import linear_model"
      ],
      "execution_count": null,
      "outputs": []
    },
    {
      "cell_type": "code",
      "metadata": {
        "id": "yIh9maFIoQWQ"
      },
      "source": [
        "lin_model = linear_model.LinearRegression()\r\n",
        "lin_model.fit(x, y)"
      ],
      "execution_count": null,
      "outputs": []
    },
    {
      "cell_type": "markdown",
      "metadata": {
        "id": "tLRcm1MPmn3I"
      },
      "source": [
        "since we want to customize our plot, we will use matplotlib directly this time:"
      ]
    },
    {
      "cell_type": "code",
      "metadata": {
        "id": "i0FnjJjYt6tS"
      },
      "source": [
        " with plt.style.context('seaborn'): # use your favorite style, if you don't like the standard one\r\n",
        "  plt.figure(figsize=(16,9))\r\n",
        "  plt.scatter(x, y, label='true') \r\n",
        "\r\n",
        "  w1 = lin_model.coef_ # weights of the model are stored here\r\n",
        "  w0 = lin_model.intercept_ # and here it is the intercept\r\n",
        "\r\n",
        "  # Compute the y component of the regression line\r\n",
        "\r\n",
        "  y_pred = lin_model.predict(x)\r\n",
        "  #y_pred = [w1 * sample + w0 for sample in x.flatten()] \r\n",
        "  # (we used a list comprehension here, have a look to the python tutorial\r\n",
        "  #  if you don't know what it is!)\r\n",
        "\r\n",
        "  plt.plot(x, y_pred, label='predicted', color='red')\r\n",
        "\r\n",
        "  # enlarging fonts\r\n",
        "  plt.legend(prop={'size': 20})\r\n",
        "  plt.xticks(fontsize=20)\r\n",
        "  plt.yticks(fontsize=20)\r\n",
        "\r\n",
        "  plt.show()"
      ],
      "execution_count": null,
      "outputs": []
    },
    {
      "cell_type": "markdown",
      "metadata": {
        "id": "6k3XhIyq6zjk"
      },
      "source": [
        "To evaluate the quality of our regression we can analyse some metrics:"
      ]
    },
    {
      "cell_type": "code",
      "metadata": {
        "id": "xM7hyv5VuA-J"
      },
      "source": [
        "from sklearn.metrics import mean_squared_error, r2_score\r\n",
        "from sklearn.feature_selection import f_regression"
      ],
      "execution_count": null,
      "outputs": []
    },
    {
      "cell_type": "markdown",
      "metadata": {
        "id": "R6PxpJIy9sEh"
      },
      "source": [
        "### Residual Sum of Squares \r\n",
        "\r\n",
        "$RSS = \\sum_n (\\hat{t}_n-t_n)^2$, it tells us how much of the prediction differs from the true value."
      ]
    },
    {
      "cell_type": "code",
      "metadata": {
        "id": "NefO1wGd_ZW4"
      },
      "source": [
        "lin_model._residues"
      ],
      "execution_count": null,
      "outputs": []
    },
    {
      "cell_type": "markdown",
      "metadata": {
        "id": "b9WRg42r9COM"
      },
      "source": [
        "### Coefficient of determination \r\n",
        "\r\n",
        "$R^2 = 1 - \\frac{RSS}{\\sum_n (\\bar{t}-t_n)^2}$, it tells us how the fraction of the variance of the data explained by the model (how much better we are doing w.r.t. just using the mean of the target \u0016$\\bar{t} = \\frac{\\sum_n t_n}{N}$).\r\n",
        "\r\n",
        "In spaces with a single feature this is equal to the correlation coefficient between the input and the output;\r\n",
        "\r\n",
        "For a more detailed explanation: https://en.wikipedia.org/wiki/Coefficient_of_determination"
      ]
    },
    {
      "cell_type": "code",
      "metadata": {
        "id": "2pyiyI1i0Dpv"
      },
      "source": [
        ""
      ],
      "execution_count": null,
      "outputs": []
    },
    {
      "cell_type": "code",
      "metadata": {
        "id": "320Lw_LDv55f"
      },
      "source": [
        "r2_score(y, y_pred)"
      ],
      "execution_count": null,
      "outputs": []
    },
    {
      "cell_type": "markdown",
      "metadata": {
        "id": "OXBmBYQS7kJJ"
      },
      "source": [
        "### Mean Squared Error\r\n",
        "\r\n",
        "$MSE = \\frac{\\sum_n (\\hat{t}_n-t_n)^2}{N}$, it tells approximately how much error we get on a predicted data over the training set (i.e., a normalized version of the RSS)."
      ]
    },
    {
      "cell_type": "code",
      "metadata": {
        "id": "EFTip4m7vriY"
      },
      "source": [
        " mean_squared_error(y, y_pred)"
      ],
      "execution_count": null,
      "outputs": []
    },
    {
      "cell_type": "markdown",
      "metadata": {
        "id": "ikyuzWZCUZmy"
      },
      "source": [
        "Under the assumption that the observations $t_n$ are i.i.d. and satisfies $t_n = w_0 + \\sum_j w_j x_{nj} + \\epsilon$, where $\\epsilon$ is a Gaussian noise with zero mean and variance $\\sigma^2$ (i.e., the data are generated by a linear model with noise), the computed coefficients $\\hat{w}_j$ are distributed as follows:\r\n",
        "\\begin{equation*}\r\n",
        "\t\\frac{\\hat{w}_j - w_j}{\\hat{\\sigma} \\sqrt{v_j}} \\sim t_{N - M -1}\r\n",
        "\\end{equation*}\r\n",
        "where $w_j$ is the true parameter, $\\hat{\\sigma}$ is the unbiased estimated for the target variance, i.e., $\\hat{\\sigma}^2 = \\frac{\\sum_n (t_n - \\bar{t}_n)^2}{N - M - 1}$, $v_j$ is the $j$-th diagonal element of the matrix $(X^T X)^{-1}$ and $t_{N - M}$ is the t-student distribution with $N - M - 1$ degrees of freedom.\r\n",
        "\r\n",
        "This allow us to formulate some **statistical tests**:"
      ]
    },
    {
      "cell_type": "markdown",
      "metadata": {
        "id": "KYdRoIWvLsAG"
      },
      "source": [
        "### Single coefficients statistical test:\r\n",
        "$$H_0: w_j = 0 \\qquad \\text{ vs. } \\qquad H_1: w_j \\neq 0$$\r\n",
        "\\begin{equation*}\r\n",
        "t_{stat} = \\frac{\\hat{w}_j - w_j}{\\hat{\\sigma} \\sqrt{v_j}} \\sim t_{N - M - 1}\r\n",
        "\\end{equation*}\r\n",
        "where $t_{N - M - 1}$ is the T-Student distribution with $N-M-1$ degrees of freedom"
      ]
    },
    {
      "cell_type": "markdown",
      "metadata": {
        "id": "vIh8kFzOBm5P"
      },
      "source": [
        "### Overall significance of the model: F-statistic\r\n",
        "\r\n",
        "It considers the following hypothesis test:\r\n",
        "\r\n",
        "$$H_0: w_0 = w_1 = \\dots = w_M = 0 \\text{ vs. }  H_1: \\exists w_j \\neq 0$$\r\n",
        "\r\n",
        "\r\n",
        "The F-statistic can be computed and is distributed as follows:\r\n",
        "$$ F = \\frac{dfe}{M - 1}\\frac{\\sum_n (\\hat{t}_n-t_n)- RSS}{RSS} \\sim F_{M-1, N-M} $$\r\n",
        "\r\n",
        "where $F_{M-1, N-M}$ is the Fisher-Snedecor distribution with parameters $M-1$ and $N-M$."
      ]
    },
    {
      "cell_type": "code",
      "metadata": {
        "id": "UhSXLX9Q115o"
      },
      "source": [
        "f_regression(x, y) # it outputs a tuple: (value of the F-statistics, its p-value)"
      ],
      "execution_count": null,
      "outputs": []
    },
    {
      "cell_type": "markdown",
      "metadata": {
        "id": "68YdCO_YFNjQ"
      },
      "source": [
        "If one wants all the information about the output of a linear model in a single instruction, just use the library **statsmodels** and use the function **summary()** on the result of the Ordinary Least Square optimization procedure"
      ]
    },
    {
      "cell_type": "code",
      "metadata": {
        "id": "xBi56iByBGL-"
      },
      "source": [
        "from statsmodels import api as sm\r\n",
        "lin_model2 = sm.OLS(x, y).fit()\r\n",
        "print(lin_model2.summary())"
      ],
      "execution_count": null,
      "outputs": []
    },
    {
      "cell_type": "markdown",
      "metadata": {
        "id": "MhYMNJakoxBa"
      },
      "source": [
        "## Custom Implementation\r\n",
        "\r\n",
        "We can also implement Least-Squares from scratch, using its closed-form:\r\n",
        "\r\n",
        "\\begin{equation}\r\n",
        "\\hat{\\mathbb{w}}_{OLS} = (\\mathbb{\\Phi}^{\\top}\\mathbb{\\Phi})^{-1}\\mathbb{\\Phi}\\ \\mathbb{t},\r\n",
        "\\end{equation}\r\n",
        "\r\n",
        "where $\\mathbb{\\Phi}= (\\phi(x_1), \\dots, \\phi(x_N))^{\\top}$ and $\\mathbb{t} = (t_1, \\dots, t_N)^{\\top}.$\r\n",
        "\r\n",
        "By using **numpy**:\r\n"
      ]
    },
    {
      "cell_type": "code",
      "metadata": {
        "id": "EkjL1BgVI6qn"
      },
      "source": [
        "from numpy.linalg import inv\r\n",
        "\r\n",
        "n_samples = len(x)\r\n",
        "Phi = np.ones((n_samples, 2))\r\n",
        "Phi[:, 1] = x.flatten() # the second column is the feature\r\n",
        "# the field 'T' represents the transposed matrix, @ is the matrix product, the method 'dot' is the matrix product\r\n",
        "mpinv = inv(Phi.T @ (Phi)).dot(Phi.T); \r\n",
        "w = mpinv.dot(y);"
      ],
      "execution_count": null,
      "outputs": []
    },
    {
      "cell_type": "code",
      "metadata": {
        "id": "GeabDZQnKoit"
      },
      "source": [
        "w"
      ],
      "execution_count": null,
      "outputs": []
    },
    {
      "cell_type": "markdown",
      "metadata": {
        "id": "NLceCKRHpDzr"
      },
      "source": [
        "## Regularization\r\n",
        "\r\n",
        "If we need to mitigate over-fitting effects in a model we might resort to some regularization techniques, like Ridge regression or Lasso regression."
      ]
    },
    {
      "cell_type": "markdown",
      "metadata": {
        "id": "vYt3HsLkFfzR"
      },
      "source": [
        "### Ridge Regression\r\n",
        "Linear least squares with l2 regularization."
      ]
    },
    {
      "cell_type": "code",
      "metadata": {
        "id": "IaRGEK4YwME1"
      },
      "source": [
        "ridge_model = linear_model.Ridge(alpha=10)\r\n",
        "ridge_model.fit(x, y)"
      ],
      "execution_count": null,
      "outputs": []
    },
    {
      "cell_type": "markdown",
      "metadata": {
        "id": "xgnd8TqwFnSn"
      },
      "source": [
        "### Lasso Regression\r\n",
        "\r\n",
        "Linear Model trained with L1 prior as regularizer."
      ]
    },
    {
      "cell_type": "code",
      "metadata": {
        "id": "eocxqnr0GUGA"
      },
      "source": [
        "lasso_model = linear_model.Lasso(alpha=10)\r\n",
        "lasso_model.fit(x, y)"
      ],
      "execution_count": null,
      "outputs": []
    },
    {
      "cell_type": "code",
      "metadata": {
        "id": "eGX3sBIjxTtY"
      },
      "source": [
        " with plt.style.context('seaborn'):\r\n",
        "  plt.figure(figsize=(16,9))\r\n",
        "  plt.scatter(x, y, label='original samples')\r\n",
        "  y_linear = [lin_model.coef_ * x_i + lin_model.intercept_ for x_i in x]\r\n",
        "  plt.plot(x, y_linear, label='linear regression', color='red')\r\n",
        "  for alpha in [0.1, 0.2, 0.5]:    \r\n",
        "    # lasso regression\r\n",
        "    lasso_model = linear_model.Lasso(alpha=alpha)\r\n",
        "    lasso_model.fit(x, y)\r\n",
        "    y_lasso = [lasso_model.coef_ * x_i + lasso_model.intercept_ for x_i in x]\r\n",
        "    plt.plot(x, y_lasso, label='lasso, alpha={}'.format(alpha))\r\n",
        "\r\n",
        "\r\n",
        "  # enlarging fonts\r\n",
        "  plt.legend(prop={'size': 20})\r\n",
        "  plt.xticks(fontsize=20)\r\n",
        "  plt.yticks(fontsize=20)\r\n",
        "\r\n",
        "  plt.show()"
      ],
      "execution_count": null,
      "outputs": []
    },
    {
      "cell_type": "markdown",
      "metadata": {
        "id": "QNhAGwb4Iyso"
      },
      "source": [
        "## Homeworks\r\n",
        "\r\n",
        "Here we propose some exercises in python for you. They are not mandatory, but they can be helpful to better understand the contents of the lecture, by giving you the opportunity to develop some code by yourself."
      ]
    },
    {
      "cell_type": "markdown",
      "metadata": {
        "id": "iFF82DWZMZF7"
      },
      "source": [
        "### 1) Predicting petal width\r\n",
        "\r\n",
        "Consider again the Iris dataset, and complete the following code, by writing a script which is able to predict the petal width by using, this time, **all** the other features as input.\r\n"
      ]
    },
    {
      "cell_type": "code",
      "metadata": {
        "id": "EoL-MuvNNGDO"
      },
      "source": [
        "url = \"https://archive.ics.uci.edu/ml/machine-learning-databases/iris/iris.data\"\r\n",
        "names = ['sepal-length', 'sepal-width', 'petal-length', 'petal-width', 'class']\r\n",
        "dataset = pd.read_csv(url, names=names)\r\n",
        "\r\n",
        "# Get input and output\r\n",
        "x = ### WRITE YOUR CODE HERE ###\r\n",
        "y = zscore(dataset['petal-width'].values)\r\n",
        "\r\n",
        "# Fit your model\r\n",
        "### WRITE YOUR CODE HERE ###"
      ],
      "execution_count": null,
      "outputs": []
    },
    {
      "cell_type": "markdown",
      "metadata": {
        "id": "PTRopMQPQLe7"
      },
      "source": [
        "Comment on the parameters we would like to introduce or exclude from the prediction process. \r\n",
        "\r\n",
        "Does this model is better than the one trained with a single input?\r\n",
        "\r\n",
        "How do you check if the two models are significantly different from each other? \r\n",
        "\r\n",
        "*(hint: look at the exercise session on Bias-Variance tradeoff)*"
      ]
    },
    {
      "cell_type": "markdown",
      "metadata": {
        "id": "nxGE1RDyMWqu"
      },
      "source": [
        "### 2) Implementing closed-form ridge regression\r\n",
        "Ridge regression can be obtained in closed form, as we have seen at lesson. Implement it by yourself, by completing the code below."
      ]
    },
    {
      "cell_type": "code",
      "metadata": {
        "id": "_8rWpe8EI4cc"
      },
      "source": [
        "alpha = 100\r\n",
        "ridge_model = linear_model.Ridge(alpha=alpha)\r\n",
        "ridge_model.fit(x, y)\r\n",
        "\r\n",
        "\r\n",
        "w = ### WRITE YOUR CODE HERE ###\r\n",
        "\r\n",
        "# Compare your solution it with the scikit-learn one!\r\n",
        "assert np.isclose(w, ridge_model.coef_), 'Something wrong!, try again...'"
      ],
      "execution_count": null,
      "outputs": []
    },
    {
      "cell_type": "code",
      "metadata": {
        "id": "zafiAIByqnKw"
      },
      "source": [
        "### Solution - TO BE REMOVED\r\n",
        "# N = len(x)\r\n",
        "# Phi = np.ones((N, 2))\r\n",
        "# Phi[:, 1] = x.flatten() # the second column is the feature\r\n",
        "# # the field 'T' represents the transposed matrix, the method 'dot' is the matrix product\r\n",
        "# ridge_mpinv = inv(alpha * np.eye(2) + Phi.T.dot(Phi)).dot(Phi.T); \r\n",
        "# w = ridge_mpinv.dot(y);"
      ],
      "execution_count": null,
      "outputs": []
    },
    {
      "cell_type": "markdown",
      "metadata": {
        "id": "_B_rKvZItg6P"
      },
      "source": [
        "### 3) Implementing LS for multiple outputs \r\n",
        "\r\n",
        "We have seen at lesson that LS is possible also when we have multiple outputs.\r\n",
        "\r\n",
        "Implement it by extending the LS custom implementation that we have seen."
      ]
    },
    {
      "cell_type": "code",
      "metadata": {
        "id": "sOzCW5qXtr-1"
      },
      "source": [
        "### WRITE YOUR CODE HERE ###"
      ],
      "execution_count": null,
      "outputs": []
    },
    {
      "cell_type": "markdown",
      "metadata": {
        "id": "J7jiEl88tByT"
      },
      "source": [
        "### 4) Try it on another dataset\r\n",
        "\r\n",
        "Try to repeat the procedure that we have seen for the Iris dataset on a new dataset of your choice:\r\n",
        "\r\n",
        "- select a dataset (many are available online, e.g. https://www.kaggle.com/datasets)\r\n",
        "- visualize data, in order to spot interesting relationships\r\n",
        "- preprocess data\r\n",
        "- apply linear regression"
      ]
    },
    {
      "cell_type": "code",
      "metadata": {
        "id": "Cs2jRanHtfgs"
      },
      "source": [
        "### WRITE YOUR CODE HERE ###"
      ],
      "execution_count": null,
      "outputs": []
    }
  ]
}